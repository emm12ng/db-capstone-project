{
 "cells": [
  {
   "cell_type": "code",
   "execution_count": 1,
   "id": "56e33408",
   "metadata": {},
   "outputs": [
    {
     "name": "stdout",
     "output_type": "stream",
     "text": [
      "Requirement already satisfied: mysql-connector-python in c:\\users\\emma nguyen\\anaconda3\\lib\\site-packages (8.2.0)\n",
      "Requirement already satisfied: protobuf<=4.21.12,>=4.21.1 in c:\\users\\emma nguyen\\anaconda3\\lib\\site-packages (from mysql-connector-python) (4.21.12)\n"
     ]
    }
   ],
   "source": [
    "!pip install mysql-connector-python"
   ]
  },
  {
   "cell_type": "code",
   "execution_count": 9,
   "id": "fe44a701",
   "metadata": {},
   "outputs": [],
   "source": [
    "import mysql.connector as connector\n",
    "connection = connector.connect(user = \"lemon_capstone\", password = \"lemon_capstone12!\", db = \"lemondb\")\n",
    "cursor = connection.cursor() "
   ]
  },
  {
   "cell_type": "code",
   "execution_count": 11,
   "id": "172e7112",
   "metadata": {},
   "outputs": [
    {
     "name": "stdout",
     "output_type": "stream",
     "text": [
      "Base and Virtual Tables\n",
      "[('bookings',), ('customerorders',), ('customers',), ('deliveries',), ('employees',), ('menuitems',), ('menus',), ('menusquantitygreaterthan2',), ('orders',), ('ordersview',)]\n"
     ]
    }
   ],
   "source": [
    "# testing database connection by querying for tables\n",
    "show_tables_query = \"SHOW tables\" \n",
    "cursor.execute(show_tables_query)\n",
    "results = cursor.fetchall()\n",
    "print(\"Base and Virtual Tables\")\n",
    "print(results)"
   ]
  },
  {
   "cell_type": "code",
   "execution_count": 12,
   "id": "ba1e4d73",
   "metadata": {},
   "outputs": [
    {
     "name": "stdout",
     "output_type": "stream",
     "text": [
      "('CustomerName', 'ContactNumber', 'BillAmount')\n",
      "('Jen Umma', 123456789, Decimal('80.00'))\n",
      "('Ellie Wick', 345678901, Decimal('150.00'))\n",
      "('Jen Umma', 123456789, Decimal('310.00'))\n"
     ]
    }
   ],
   "source": [
    "# querying for names and contact numbers of customers that have places an order >$60\n",
    "customers_bill_greater_60 = \"\"\"SELECT \n",
    "Customers.CustomerName, Customers.ContactNumber, Orders.BillAmount\n",
    "FROM Customers INNER JOIN Orders ON Customers.CustomerID = Orders.CustomerID\n",
    "WHERE Orders.BillAmount > 60;\n",
    "\"\"\"\n",
    "cursor.execute(customers_bill_greater_60)\n",
    "results = cursor.fetchall()\n",
    "print(cursor.column_names)\n",
    "for r in results:\n",
    "    print(r)"
   ]
  }
 ],
 "metadata": {
  "kernelspec": {
   "display_name": "Python 3 (ipykernel)",
   "language": "python",
   "name": "python3"
  },
  "language_info": {
   "codemirror_mode": {
    "name": "ipython",
    "version": 3
   },
   "file_extension": ".py",
   "mimetype": "text/x-python",
   "name": "python",
   "nbconvert_exporter": "python",
   "pygments_lexer": "ipython3",
   "version": "3.9.12"
  }
 },
 "nbformat": 4,
 "nbformat_minor": 5
}
